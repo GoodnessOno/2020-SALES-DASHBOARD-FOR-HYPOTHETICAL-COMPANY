{
  "nbformat": 4,
  "nbformat_minor": 0,
  "metadata": {
    "colab": {
      "provenance": [],
      "authorship_tag": "ABX9TyOG8VV8DUe1NXeJCe+jt6NJ",
      "include_colab_link": true
    },
    "kernelspec": {
      "name": "python3",
      "display_name": "Python 3"
    },
    "language_info": {
      "name": "python"
    }
  },
  "cells": [
    {
      "cell_type": "markdown",
      "metadata": {
        "id": "view-in-github",
        "colab_type": "text"
      },
      "source": [
        "<a href=\"https://colab.research.google.com/github/GoodnessOno/2020-SALES-DASHBOARD-FOR-HYPOTHETICAL-COMPANY/blob/main/COURSERA_PRACTICE_LAB.ipynb\" target=\"_parent\"><img src=\"https://colab.research.google.com/assets/colab-badge.svg\" alt=\"Open In Colab\"/></a>"
      ]
    },
    {
      "cell_type": "code",
      "execution_count": 4,
      "metadata": {
        "colab": {
          "base_uri": "https://localhost:8080/"
        },
        "id": "yjX4QGwViMKs",
        "outputId": "bb2a032c-381b-4ae9-b6d4-636652ef2f85"
      },
      "outputs": [
        {
          "output_type": "stream",
          "name": "stdout",
          "text": [
            "What country do you love? United Kingdom\n",
            "Why do you love United Kingdom\n"
          ]
        }
      ],
      "source": [
        "print('Why do you love', input('What country do you love? '))"
      ]
    },
    {
      "cell_type": "code",
      "source": [
        "print(input('What is your name? '))"
      ],
      "metadata": {
        "colab": {
          "base_uri": "https://localhost:8080/"
        },
        "id": "8BDC6jwriXdz",
        "outputId": "5d276488-4d40-4889-c19d-9a1ddb4c5d9f"
      },
      "execution_count": 7,
      "outputs": [
        {
          "output_type": "stream",
          "name": "stdout",
          "text": [
            "What is your name? GOODNESS\n",
            "GOODNESS\n"
          ]
        }
      ]
    },
    {
      "cell_type": "code",
      "source": [
        "print(input('How do you feel? '))"
      ],
      "metadata": {
        "colab": {
          "base_uri": "https://localhost:8080/"
        },
        "id": "07759DFlkUME",
        "outputId": "fbd483ca-7831-4ca3-8961-96aaa5d44940"
      },
      "execution_count": 8,
      "outputs": [
        {
          "output_type": "stream",
          "name": "stdout",
          "text": [
            "How do you feel? 2\n",
            "2\n"
          ]
        }
      ]
    },
    {
      "cell_type": "code",
      "source": [
        "print(input('Are you ready to learn more? '))"
      ],
      "metadata": {
        "colab": {
          "base_uri": "https://localhost:8080/"
        },
        "id": "dcQVBRBxkUjg",
        "outputId": "4c7aed71-4eb8-40ae-e1e6-989f878b6ac1"
      },
      "execution_count": 9,
      "outputs": [
        {
          "output_type": "stream",
          "name": "stdout",
          "text": [
            "Are you ready to learn more? Yes\n",
            "Yes\n"
          ]
        }
      ]
    },
    {
      "cell_type": "code",
      "source": [
        "print(input('How old are you? '))"
      ],
      "metadata": {
        "colab": {
          "base_uri": "https://localhost:8080/"
        },
        "id": "QAWx8rxFmKbD",
        "outputId": "cf354177-0399-4b64-ba70-c28a7834ed0c"
      },
      "execution_count": 10,
      "outputs": [
        {
          "output_type": "stream",
          "name": "stdout",
          "text": [
            "How old are you? 24\n",
            "24\n"
          ]
        }
      ]
    },
    {
      "cell_type": "code",
      "source": [
        "print(input('What number is your lucky number? '))"
      ],
      "metadata": {
        "colab": {
          "base_uri": "https://localhost:8080/"
        },
        "id": "-gFG5TODmMql",
        "outputId": "a841451c-b03f-4c21-a179-d8e8501bc130"
      },
      "execution_count": 11,
      "outputs": [
        {
          "output_type": "stream",
          "name": "stdout",
          "text": [
            "What number is your lucky number? 1\n",
            "1\n"
          ]
        }
      ]
    },
    {
      "cell_type": "code",
      "source": [
        "print(input('What date is today? '))"
      ],
      "metadata": {
        "colab": {
          "base_uri": "https://localhost:8080/"
        },
        "id": "dZbKjF2AmNQZ",
        "outputId": "23948e5b-16af-4697-a5b4-941398b01331"
      },
      "execution_count": 12,
      "outputs": [
        {
          "output_type": "stream",
          "name": "stdout",
          "text": [
            "What date is today? 2023-11-24\n",
            "2023-11-24\n"
          ]
        }
      ]
    }
  ]
}