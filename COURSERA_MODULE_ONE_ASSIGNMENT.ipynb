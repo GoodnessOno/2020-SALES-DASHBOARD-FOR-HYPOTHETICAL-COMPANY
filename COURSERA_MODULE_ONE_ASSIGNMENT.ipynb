{
  "nbformat": 4,
  "nbformat_minor": 0,
  "metadata": {
    "colab": {
      "provenance": [],
      "authorship_tag": "ABX9TyPoC91yxuk8rQBDsVE2MeXa",
      "include_colab_link": true
    },
    "kernelspec": {
      "name": "python3",
      "display_name": "Python 3"
    },
    "language_info": {
      "name": "python"
    }
  },
  "cells": [
    {
      "cell_type": "markdown",
      "metadata": {
        "id": "view-in-github",
        "colab_type": "text"
      },
      "source": [
        "<a href=\"https://colab.research.google.com/github/GoodnessOno/2020-SALES-DASHBOARD-FOR-HYPOTHETICAL-COMPANY/blob/main/COURSERA_MODULE_ONE_ASSIGNMENT.ipynb\" target=\"_parent\"><img src=\"https://colab.research.google.com/assets/colab-badge.svg\" alt=\"Open In Colab\"/></a>"
      ]
    },
    {
      "cell_type": "code",
      "execution_count": 3,
      "metadata": {
        "colab": {
          "base_uri": "https://localhost:8080/"
        },
        "id": "Z6bl6D6TsYzN",
        "outputId": "30933d7b-2ede-4d60-d990-f26c801a452e"
      },
      "outputs": [
        {
          "output_type": "stream",
          "name": "stdout",
          "text": [
            "What is your name? Favour\n",
            "Dear, Favour\n"
          ]
        }
      ],
      "source": [
        "print('Dear,', input('What is your name? '))"
      ]
    },
    {
      "cell_type": "code",
      "source": [
        "print('This is', input('What is my name? '))"
      ],
      "metadata": {
        "colab": {
          "base_uri": "https://localhost:8080/"
        },
        "id": "fxfveqRruehk",
        "outputId": "ae3ec02a-ffa6-4d77-a88d-8c800cc14fb9"
      },
      "execution_count": 4,
      "outputs": [
        {
          "output_type": "stream",
          "name": "stdout",
          "text": [
            "What is my name? Goodness\n",
            "This is Goodness\n"
          ]
        }
      ]
    },
    {
      "cell_type": "code",
      "source": [
        "location = input('What is my location?')\n",
        "print('I am writing to let you know that the weather in '  +  location  +  ' is fantastic! ')"
      ],
      "metadata": {
        "colab": {
          "base_uri": "https://localhost:8080/"
        },
        "id": "1ZFuBuK1vTg1",
        "outputId": "461bdf97-a614-42b0-d5ed-dd21eef0bb30"
      },
      "execution_count": 25,
      "outputs": [
        {
          "output_type": "stream",
          "name": "stdout",
          "text": [
            "What is my location?UK\n",
            "I am writing to let you know that the weather in UK is fantastic! \n"
          ]
        }
      ]
    },
    {
      "cell_type": "code",
      "source": [
        "number_of_programs = input('Number of programs written?')\n",
        "print('I am taking python for data science course. I have coded ' + number_of_programs + ' programs and the experience was fun! Join me if you are interested!')"
      ],
      "metadata": {
        "colab": {
          "base_uri": "https://localhost:8080/"
        },
        "id": "1oQlDfRxvT1B",
        "outputId": "f21f7f49-6edb-4d42-9e03-ec2edc6cc05e"
      },
      "execution_count": 27,
      "outputs": [
        {
          "output_type": "stream",
          "name": "stdout",
          "text": [
            "Number of programs written?5\n",
            "I am taking python for data science course. I have coded 5 programs and the experience was fun! Join me if you are interested!\n"
          ]
        }
      ]
    },
    {
      "cell_type": "code",
      "source": [
        "name = input('What is your name? ')\n",
        "date = input(\"What is today's date\")\n",
        "print('Sincerely ' + name  +  date)"
      ],
      "metadata": {
        "colab": {
          "base_uri": "https://localhost:8080/"
        },
        "id": "kleIBSTKvUEd",
        "outputId": "a8cfb869-97f6-4e7f-988c-405137f97450"
      },
      "execution_count": 30,
      "outputs": [
        {
          "output_type": "stream",
          "name": "stdout",
          "text": [
            "What is your name? GOODNESS\n",
            "What is today's date2023-11-24\n",
            "Sincerely GOODNESS2023-11-24\n"
          ]
        }
      ]
    }
  ]
}